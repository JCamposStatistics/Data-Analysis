{
  "nbformat": 4,
  "nbformat_minor": 0,
  "metadata": {
    "colab": {
      "name": "Preliminaries.ipynb",
      "provenance": []
    },
    "kernelspec": {
      "name": "python3",
      "display_name": "Python 3"
    },
    "language_info": {
      "name": "python"
    }
  },
  "cells": [
    {
      "cell_type": "markdown",
      "source": [
        "##Somes type of functions"
      ],
      "metadata": {
        "id": "OkA_yc335LNH"
      }
    },
    {
      "cell_type": "code",
      "execution_count": null,
      "metadata": {
        "colab": {
          "base_uri": "https://localhost:8080/"
        },
        "id": "R84jyHWeeT4u",
        "outputId": "c8664a0f-7d8b-4db9-fe02-4b9d4533a3df"
      },
      "outputs": [
        {
          "output_type": "stream",
          "name": "stdout",
          "text": [
            "Hi world\n"
          ]
        }
      ],
      "source": [
        "#A Python program is made up of instructions. Each statement is normally written on one line. For example, the instruction \n",
        "#print is for print 'Hello word in the screen. The function print is for print a object\n",
        "print('Hi world')\n"
      ]
    },
    {
      "cell_type": "code",
      "source": [
        "#Example \n",
        "print('Hi! welcome to my tutorial in Python, thank you')"
      ],
      "metadata": {
        "colab": {
          "base_uri": "https://localhost:8080/"
        },
        "id": "RJvVGbLmlsK7",
        "outputId": "a5e788ab-7d65-4072-9021-04b16fd8fe6a"
      },
      "execution_count": null,
      "outputs": [
        {
          "output_type": "stream",
          "name": "stdout",
          "text": [
            "Hi! welcome to my tutorial in Python, thank you\n"
          ]
        }
      ]
    },
    {
      "cell_type": "code",
      "source": [
        "#If the program have two or more instructions, the program print all instructions sequencially one after another\n",
        "#Example\n",
        "print('Instruction 1')\n",
        "print('Instruction 2')"
      ],
      "metadata": {
        "colab": {
          "base_uri": "https://localhost:8080/"
        },
        "id": "E4ZHIQzFmA09",
        "outputId": "098d2ffc-c40c-48ee-c204-e82f95bef708"
      },
      "execution_count": null,
      "outputs": [
        {
          "output_type": "stream",
          "name": "stdout",
          "text": [
            "Instruction 1\n",
            "Instruction 2\n"
          ]
        }
      ]
    },
    {
      "cell_type": "code",
      "source": [
        "#Print is a function predifined (built-in function). A function is called from a program, writing the name and next the parenthesys\n",
        "#Python have many predifined functions(The above functions are called predefined functions because they are already included \"by default\" in Python.),\n",
        "#for example the function help is for give information about some thing \n",
        "help(print)"
      ],
      "metadata": {
        "colab": {
          "base_uri": "https://localhost:8080/"
        },
        "id": "riQItK4wmshR",
        "outputId": "a4ab02f2-6b2a-47f0-8217-dfa4e4ba81d0"
      },
      "execution_count": null,
      "outputs": [
        {
          "output_type": "stream",
          "name": "stdout",
          "text": [
            "Help on built-in function print in module builtins:\n",
            "\n",
            "print(...)\n",
            "    print(value, ..., sep=' ', end='\\n', file=sys.stdout, flush=False)\n",
            "    \n",
            "    Prints the values to a stream, or to sys.stdout by default.\n",
            "    Optional keyword arguments:\n",
            "    file:  a file-like object (stream); defaults to the current sys.stdout.\n",
            "    sep:   string inserted between values, default a space.\n",
            "    end:   string appended after the last value, default a newline.\n",
            "    flush: whether to forcibly flush the stream.\n",
            "\n"
          ]
        }
      ]
    },
    {
      "cell_type": "code",
      "source": [
        "#programmers can define their own functions\n",
        "def say_hi(name):\n",
        "#This function give a greeting most your name\n",
        "    print('I am Ramón, ' + name)\n",
        "say_hi('Joseph')\n"
      ],
      "metadata": {
        "colab": {
          "base_uri": "https://localhost:8080/"
        },
        "id": "WE6g-dyKn9Ec",
        "outputId": "43f571da-f3b4-40fc-87c1-804805b632ff"
      },
      "execution_count": null,
      "outputs": [
        {
          "output_type": "stream",
          "name": "stdout",
          "text": [
            "I am Ramón, Joseph\n"
          ]
        }
      ]
    },
    {
      "cell_type": "code",
      "source": [
        "#The function we just defined is called greet and takes a single parameter. After the first line (called the function header or prototype)\n",
        "#comes one or more instructions (called the function body), which will be executed when someone calls the function. \n",
        "#Note that the instructions that make up the body of the function appear indented, that is, they have a tab in front of them."
      ],
      "metadata": {
        "id": "_Vd7ZyR0q9T6"
      },
      "execution_count": null,
      "outputs": []
    },
    {
      "cell_type": "code",
      "source": [
        "#Functions can be inside others, for example\n",
        "def greeting_nice(a):\n",
        "  say_hi(a)\n",
        "print('Nice to meet you')\n",
        "greeting_nice('Juan')"
      ],
      "metadata": {
        "colab": {
          "base_uri": "https://localhost:8080/"
        },
        "id": "GmttQtBKr9ZB",
        "outputId": "08b5e633-26bd-479e-cb7e-b6191bfb5345"
      },
      "execution_count": null,
      "outputs": [
        {
          "output_type": "stream",
          "name": "stdout",
          "text": [
            "Nice to meet you\n",
            "I am Batman, Juan\n"
          ]
        }
      ]
    },
    {
      "cell_type": "code",
      "source": [
        "#Functions with most parameters\n",
        "def discount(value, percentage):\n",
        "  percentage = percentage/100\n",
        "  return value*(1-percentage)\n"
      ],
      "metadata": {
        "id": "PDBUcO5ww5iX"
      },
      "execution_count": null,
      "outputs": []
    },
    {
      "cell_type": "code",
      "source": [
        "discount(80,20)"
      ],
      "metadata": {
        "colab": {
          "base_uri": "https://localhost:8080/"
        },
        "id": "bKasgkm0xrat",
        "outputId": "1b5466e2-38b6-43fa-ffa7-3450cd1bbdb1"
      },
      "execution_count": null,
      "outputs": [
        {
          "output_type": "execute_result",
          "data": {
            "text/plain": [
              "64.0"
            ]
          },
          "metadata": {},
          "execution_count": 39
        }
      ]
    },
    {
      "cell_type": "code",
      "source": [
        "def iva(cost, increment_for_late_delivery):\n",
        "  increment_for_late_delivery = increment_for_late_delivery*0.20\n",
        "  return cost+increment_for_late_delivery\n",
        "  "
      ],
      "metadata": {
        "id": "nS3VrQqa9H0t"
      },
      "execution_count": null,
      "outputs": []
    },
    {
      "cell_type": "code",
      "source": [
        "iva(20,1)"
      ],
      "metadata": {
        "colab": {
          "base_uri": "https://localhost:8080/"
        },
        "id": "d4n0ot869o3W",
        "outputId": "8da476ab-ed50-4a16-80c6-eb83225c028c"
      },
      "execution_count": null,
      "outputs": [
        {
          "output_type": "execute_result",
          "data": {
            "text/plain": [
              "20.2"
            ]
          },
          "metadata": {},
          "execution_count": 42
        }
      ]
    },
    {
      "cell_type": "code",
      "source": [
        "#In expressions we can also use function calls, as long as they are functions that return some result. \n",
        "#For a function to return a value when it is called,\n",
        "#we will use the return statement somewhere in the function body (usually at the end of the function body).\n",
        "def triple(c):\n",
        "  return c * 3"
      ],
      "metadata": {
        "id": "wIega94Zsyxp"
      },
      "execution_count": null,
      "outputs": []
    },
    {
      "cell_type": "code",
      "source": [
        "triple(5)"
      ],
      "metadata": {
        "colab": {
          "base_uri": "https://localhost:8080/"
        },
        "id": "AfwGbVqwurxo",
        "outputId": "c93f3773-fcee-461a-8531-744d9d19f953"
      },
      "execution_count": null,
      "outputs": [
        {
          "output_type": "execute_result",
          "data": {
            "text/plain": [
              "15"
            ]
          },
          "metadata": {},
          "execution_count": 30
        }
      ]
    },
    {
      "cell_type": "code",
      "source": [
        "#If you wanna save a result of grat importance, call a variable with the result. For example\n",
        "result_of_great_value = 4534523452453452345435 + 213424234 / 234512525435345"
      ],
      "metadata": {
        "id": "FcrmUdf2u3Wx"
      },
      "execution_count": null,
      "outputs": []
    },
    {
      "cell_type": "code",
      "source": [
        "result_of_great_value"
      ],
      "metadata": {
        "colab": {
          "base_uri": "https://localhost:8080/"
        },
        "id": "hwEB-BtCwlyo",
        "outputId": "1de13596-cbee-465e-ffb9-27ddcc553722"
      },
      "execution_count": null,
      "outputs": [
        {
          "output_type": "execute_result",
          "data": {
            "text/plain": [
              "4.5345234524534525e+21"
            ]
          },
          "metadata": {},
          "execution_count": 33
        }
      ]
    },
    {
      "cell_type": "markdown",
      "metadata": {
        "id": "7mk37JQva9CG"
      },
      "source": [
        "En los ejemplos anteriores, hemos utilizado **literales** de tipo **cadena de caracteres** (por ejemplo, *\"Hola, mundo!\"*) y literales de tipo número **entero** (por ejemplo, *3*, *5* y *8*). Hay más tipos de literales, por ejemplo literales de tipo número **real** o de tipo **lógico**: "
      ]
    },
    {
      "cell_type": "code",
      "source": [
        "#You have 500 ants, which grow exponentially every hour, how many ants are there after two hours?\n",
        "ants = 500**2\n",
        "print(\"You have\", ants) #The operator ** is for calculate powers\n",
        "#In the same laboratory, you have 5000000 dogs, ¿Do You have most dogs or do You have most ants?\n",
        "ants > 5000000"
      ],
      "metadata": {
        "colab": {
          "base_uri": "https://localhost:8080/"
        },
        "id": "f05usfrU2jHf",
        "outputId": "a87d0844-c33f-43eb-cbe0-365e853c0148"
      },
      "execution_count": 11,
      "outputs": [
        {
          "output_type": "stream",
          "name": "stdout",
          "text": [
            "You have 250000\n"
          ]
        },
        {
          "output_type": "execute_result",
          "data": {
            "text/plain": [
              "False"
            ]
          },
          "metadata": {},
          "execution_count": 11
        }
      ]
    },
    {
      "cell_type": "markdown",
      "source": [
        "##Tuples and lists"
      ],
      "metadata": {
        "id": "iDr0RAha5Gwy"
      }
    },
    {
      "cell_type": "code",
      "source": [
        "When we need to store multiple data in a single variable, we use list literals:"
      ],
      "metadata": {
        "id": "IwZ4hA723ejx"
      },
      "execution_count": null,
      "outputs": []
    },
    {
      "cell_type": "code",
      "source": [
        "values_of_poll=[123, 231.34, 45.65, 2345.54]"
      ],
      "metadata": {
        "id": "Ek3mY8K75XKl"
      },
      "execution_count": 12,
      "outputs": []
    },
    {
      "cell_type": "code",
      "source": [
        "UFC_Fighters=[\"Korean Zombie\", \"Dustin Poirier\", \"Brandon Moreno\"]"
      ],
      "metadata": {
        "id": "ArDQMbSX5rDU"
      },
      "execution_count": 14,
      "outputs": []
    },
    {
      "cell_type": "code",
      "source": [
        "#Or, using parenthesys but this is a Tuple\n",
        "Phd_names = (\"Juan\",\"Jhon\") "
      ],
      "metadata": {
        "id": "-dIvpCbJ_ETp"
      },
      "execution_count": 16,
      "outputs": []
    },
    {
      "cell_type": "code",
      "source": [
        "Phd_names[1]"
      ],
      "metadata": {
        "colab": {
          "base_uri": "https://localhost:8080/",
          "height": 35
        },
        "id": "fdBMXj9aApmI",
        "outputId": "df7d59b0-fba0-47bd-c338-f9a102fe19f2"
      },
      "execution_count": 22,
      "outputs": [
        {
          "output_type": "execute_result",
          "data": {
            "text/plain": [
              "'Jhon'"
            ],
            "application/vnd.google.colaboratory.intrinsic+json": {
              "type": "string"
            }
          },
          "metadata": {},
          "execution_count": 22
        }
      ]
    },
    {
      "cell_type": "code",
      "source": [
        "#We can extract somes values of the structure with the Index\n",
        "UFC_Fighters[0] #Remember, in Python the first index is 0"
      ],
      "metadata": {
        "colab": {
          "base_uri": "https://localhost:8080/",
          "height": 35
        },
        "id": "ZdEOQRtc_a0J",
        "outputId": "5e78a26d-c046-4170-c15d-37113c5c6668"
      },
      "execution_count": 18,
      "outputs": [
        {
          "output_type": "execute_result",
          "data": {
            "text/plain": [
              "'Korean Zombie'"
            ],
            "application/vnd.google.colaboratory.intrinsic+json": {
              "type": "string"
            }
          },
          "metadata": {},
          "execution_count": 18
        }
      ]
    },
    {
      "cell_type": "code",
      "source": [
        "len(UFC_Fighters)"
      ],
      "metadata": {
        "colab": {
          "base_uri": "https://localhost:8080/"
        },
        "id": "ye273G6tA3Ch",
        "outputId": "ffd110f4-5f2b-4bfa-e042-20617071f826"
      },
      "execution_count": 23,
      "outputs": [
        {
          "output_type": "execute_result",
          "data": {
            "text/plain": [
              "3"
            ]
          },
          "metadata": {},
          "execution_count": 23
        }
      ]
    },
    {
      "cell_type": "code",
      "source": [
        "#We can meet the number of the data from the list, or tuples with the len function\n",
        "len(Phd_names)"
      ],
      "metadata": {
        "colab": {
          "base_uri": "https://localhost:8080/"
        },
        "id": "2v0IDG7rAUhx",
        "outputId": "8e577b80-9124-40af-97f0-4e0128f1f3fd"
      },
      "execution_count": 19,
      "outputs": [
        {
          "output_type": "execute_result",
          "data": {
            "text/plain": [
              "2"
            ]
          },
          "metadata": {},
          "execution_count": 19
        }
      ]
    },
    {
      "cell_type": "code",
      "source": [
        "Phd_names[0]=\"Pedro\""
      ],
      "metadata": {
        "colab": {
          "base_uri": "https://localhost:8080/",
          "height": 165
        },
        "id": "cLmBY2RUBg8Q",
        "outputId": "ad5730ad-0aa7-4a36-9458-c9424b75b8d0"
      },
      "execution_count": 24,
      "outputs": [
        {
          "output_type": "error",
          "ename": "TypeError",
          "evalue": "ignored",
          "traceback": [
            "\u001b[0;31m---------------------------------------------------------------------------\u001b[0m",
            "\u001b[0;31mTypeError\u001b[0m                                 Traceback (most recent call last)",
            "\u001b[0;32m<ipython-input-24-4e252fd83cc8>\u001b[0m in \u001b[0;36m<module>\u001b[0;34m()\u001b[0m\n\u001b[0;32m----> 1\u001b[0;31m \u001b[0mPhd_names\u001b[0m\u001b[0;34m[\u001b[0m\u001b[0;36m0\u001b[0m\u001b[0;34m]\u001b[0m\u001b[0;34m=\u001b[0m\u001b[0;34m\"Pedro\"\u001b[0m\u001b[0;34m\u001b[0m\u001b[0;34m\u001b[0m\u001b[0m\n\u001b[0m",
            "\u001b[0;31mTypeError\u001b[0m: 'tuple' object does not support item assignment"
          ]
        }
      ]
    },
    {
      "cell_type": "markdown",
      "source": [
        "##We say that tuples are an **immutable type**, which means that once we have stored a value in a variable of this type, we can no longer change it!"
      ],
      "metadata": {
        "id": "JnQJIQB6BvEY"
      }
    },
    {
      "cell_type": "code",
      "source": [
        "print(OCF)"
      ],
      "metadata": {
        "colab": {
          "base_uri": "https://localhost:8080/",
          "height": 165
        },
        "id": "zuNZ-eFAB_Hv",
        "outputId": "0e2002b5-5a28-499c-8b12-77b8081699e7"
      },
      "execution_count": 25,
      "outputs": [
        {
          "output_type": "error",
          "ename": "NameError",
          "evalue": "ignored",
          "traceback": [
            "\u001b[0;31m---------------------------------------------------------------------------\u001b[0m",
            "\u001b[0;31mNameError\u001b[0m                                 Traceback (most recent call last)",
            "\u001b[0;32m<ipython-input-25-b2de2d40fa2f>\u001b[0m in \u001b[0;36m<module>\u001b[0;34m()\u001b[0m\n\u001b[0;32m----> 1\u001b[0;31m \u001b[0mprint\u001b[0m\u001b[0;34m(\u001b[0m\u001b[0mOCF\u001b[0m\u001b[0;34m)\u001b[0m\u001b[0;34m\u001b[0m\u001b[0;34m\u001b[0m\u001b[0m\n\u001b[0m",
            "\u001b[0;31mNameError\u001b[0m: name 'OCF' is not defined"
          ]
        }
      ]
    },
    {
      "cell_type": "markdown",
      "source": [
        "##What just happened is a **runtime error**. These errors frequently occur while we're writing and testing our programs, and they mean that we haven't done something the right way. When one of these errors occurs, the program stops running. When our program is finished and well tested, none of these errors should occur.."
      ],
      "metadata": {
        "id": "7mrAYDIbCP2w"
      }
    }
  ]
}