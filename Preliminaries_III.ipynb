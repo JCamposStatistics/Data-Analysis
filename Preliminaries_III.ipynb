{
  "nbformat": 4,
  "nbformat_minor": 0,
  "metadata": {
    "colab": {
      "name": "Preliminaries_III.ipynb",
      "provenance": []
    },
    "kernelspec": {
      "name": "python3",
      "display_name": "Python 3"
    },
    "language_info": {
      "name": "python"
    }
  },
  "cells": [
    {
      "cell_type": "markdown",
      "metadata": {
        "id": "V_RV1SMla9CT"
      },
      "source": [
        "## 5. Objetos"
      ]
    },
    {
      "cell_type": "markdown",
      "metadata": {
        "id": "-lx1KVs-a9CT"
      },
      "source": [
        "Si queremos añadir un elemento a la lista *temperaturas*, podemos hacerlo así:"
      ]
    },
    {
      "cell_type": "code",
      "source": [
        "temperaturas.append(29.2)  # añade el valor 29.2 al final de la lista\n",
        "print(temperaturas)\n",
        "print(len(temperaturas))"
      ],
      "metadata": {
        "id": "pmi78n3sI5rs"
      },
      "execution_count": null,
      "outputs": []
    },
    {
      "cell_type": "markdown",
      "metadata": {
        "id": "RkSuZa8La9CU"
      },
      "source": [
        "Cuando una variable (*temperaturas*) puede ser usada como en el ejemplo anterior, escribiendo un punto (.) y a continuación invocando a una función (*append*), decimos que la variable es un **objeto**, y a la función en cuestión la llamamos **método**. La principal diferencia entre un método y una función es que el primero sólo se puede llamar si tenemos previamente un objeto del tipo adecuado. Por ejemplo, el método *append* sólo puede ser invocado sobre un objeto de tipo lista. \n",
        "\n",
        "Intentemos llamar a *append* como si fuese una función:"
      ]
    },
    {
      "cell_type": "code",
      "metadata": {
        "id": "7rGEmhGHa9CU"
      },
      "source": [
        "append(29.2)"
      ],
      "execution_count": null,
      "outputs": []
    },
    {
      "cell_type": "markdown",
      "metadata": {
        "id": "rgKMwQSKa9CU"
      },
      "source": [
        "Puedes ver todos los métodos que tiene un objeto mediante la función predefinida **dir**:"
      ]
    },
    {
      "cell_type": "code",
      "metadata": {
        "id": "3gzPzs8Sa9CV"
      },
      "source": [
        "dir(temperaturas)"
      ],
      "execution_count": null,
      "outputs": []
    },
    {
      "cell_type": "markdown",
      "metadata": {
        "id": "sVcgF2-Ca9CV"
      },
      "source": [
        "Y si quieres una descripción más detallada de cada método, puedes usar la función **help**, que ya hemos usado anteriormente."
      ]
    },
    {
      "cell_type": "code",
      "metadata": {
        "id": "41vjk4Dta9CW"
      },
      "source": [
        "help(temperaturas)"
      ],
      "execution_count": null,
      "outputs": []
    },
    {
      "cell_type": "markdown",
      "metadata": {
        "id": "FZNcTkyoa9CW"
      },
      "source": [
        "## 6. Control del flujo de ejecución"
      ]
    },
    {
      "cell_type": "markdown",
      "metadata": {
        "id": "vghGq53sa9CW"
      },
      "source": [
        "Podemos utilizar la instrucción **for** para recorrer los elementos de una lista o una tupla. Llamamos a esto un **bucle**."
      ]
    },
    {
      "cell_type": "code",
      "metadata": {
        "id": "ylU2otoea9CW"
      },
      "source": [
        "for temperatura in temperaturas:    # Se puede leer así: para cada valor \"temperatura\" en la lista \"temperaturas\"\n",
        "    print(\"Temperatura:\", temperatura)"
      ],
      "execution_count": null,
      "outputs": []
    },
    {
      "cell_type": "markdown",
      "metadata": {
        "id": "FW0K3oPta9CX"
      },
      "source": [
        "En el código anterior, la instrucción que aparece indentada se ejecuta una vez para cada elemento de la lista *temperaturas*. En cada ejecución, la variable *temperatura* almacena un elemento distinto de la lista, comenzando por el primero y pasando por cada elemento secuencialmente. Date cuenta también de que la función predefinida *print* se puede usar con varios parámetros, en cuyo caso mostrará cada uno de ellos por pantalla.\n",
        "\n",
        "Veamos otro ejemplo de bucle:"
      ]
    },
    {
      "cell_type": "code",
      "metadata": {
        "id": "NESBN7cNa9CX"
      },
      "source": [
        "suma = 0\n",
        "for temperatura in temperaturas:\n",
        "    suma += temperatura\n",
        "    # El operador += almacena en \"suma\" el resultado de sumar \"temperatura\" al valor anterior de \"suma\"\n",
        "print(\"La temperatura media en la semana ha sido\", suma / len(temperaturas), \"grados.\")"
      ],
      "execution_count": null,
      "outputs": []
    },
    {
      "cell_type": "markdown",
      "metadata": {
        "id": "t3REAJr1a9CX"
      },
      "source": [
        "Aunque realmente no hace falta hacer un bucle para sumar los elementos de una lista, ya que esto mismo podemos hacerlo en Python con la función predefinida **sum**."
      ]
    },
    {
      "cell_type": "code",
      "metadata": {
        "id": "eGBadLr_a9CY"
      },
      "source": [
        "print(\"La temperatura media en la semana ha sido\", sum(temperaturas) / len(temperaturas), \"grados.\")"
      ],
      "execution_count": null,
      "outputs": []
    },
    {
      "cell_type": "markdown",
      "metadata": {
        "id": "W6krFY3Va9CY"
      },
      "source": [
        "La instrucción *for* es una instrucción de **control del flujo de ejecución**, pues permite que la secuencia en que se van ejecutando las distintas instrucciones varíe con respecto a la ejecución esperada (recordemos que, por defecto, las instrucciones se van ejecutando una tras otra, en el orden en que las hemos escrito, y una sola vez). Otra instrucción que también altera el flujo normal de ejecución es la instrucción **if**. Veamos un ejemplo:"
      ]
    },
    {
      "cell_type": "code",
      "metadata": {
        "id": "C9lyhyJka9CY"
      },
      "source": [
        "def saluda(nombre, hora):\n",
        "    if hora < 12:     # Si el parámetro \"hora\" es menor de 12, se ejecuta el siguiente bloque de instrucciones\n",
        "        print(\"Buenos días, \" + nombre)\n",
        "    elif hora < 21:   # En otro caso, si el parámetro \"hora\" es menor de 21, se ejecuta el siguiente bloque de instrucciones\n",
        "        print(\"Buenas tardes, \" + nombre)\n",
        "    else:           # En cualquier otro caso, se ejecuta el siguiente bloque de instrucciones\n",
        "        print(\"Buenas noches, \" + nombre)\n",
        "\n",
        "saluda(\"Fermín\", 11)\n",
        "saluda(\"Fermín\", 16)\n",
        "saluda(\"Fermín\", 23)\n"
      ],
      "execution_count": null,
      "outputs": []
    },
    {
      "cell_type": "markdown",
      "metadata": {
        "id": "DG7vldEva9CY"
      },
      "source": [
        "Observa que las **palabras clave** que se usan son **if**, **elif** y **else**, y que a continuación de las dos primeras se escribe una expresión lógica (es decir, una expresión cuyo resultado es de tipo lógico: verdadero o falso). Las instrucciones que aparecen tras la palabra **if** sólo se ejecutan si la expresión correspondiente se evalúa como verdadera. Las instrucciones que aparecen tras la palabra **elif** sólo se ejecutan si no se han ejecutado las anteriores, y si la expresión correspondiente se evalúa como verdadera. Las instrucciones que aparecen tras la palabra **else** sólo se ejecutan si no se han ejecutado ninguna de las anteriores. \n",
        "\n",
        "Aquí tienes otros ejemplos:"
      ]
    },
    {
      "cell_type": "code",
      "metadata": {
        "id": "PxnrpIhsa9CY"
      },
      "source": [
        "temperatura_actual = temperaturas[6]\n",
        "if temperatura_actual < 0:  # Si la temperatura es menor de cero grados\n",
        "    print(\"¡Cuidado! Riesgo de congelación.\")\n"
      ],
      "execution_count": null,
      "outputs": []
    },
    {
      "cell_type": "code",
      "metadata": {
        "id": "wOi8InAOa9CZ"
      },
      "source": [
        "# Si el primer elemento de la tupla \"usuario\" es igual a \"Mark\" y el segundo elemento es igual a \"Lenders\"\n",
        "if usuario[0] == \"Mark\" and usuario[1] == \"Lenders\": \n",
        "    print(\"Hola, Mark. Te estaba esperando.\")\n",
        "else:  # En otro caso\n",
        "    print(\"Hola, ¿nos conocemos?\")\n"
      ],
      "execution_count": null,
      "outputs": []
    },
    {
      "cell_type": "code",
      "metadata": {
        "id": "NiOEK5E8a9CZ"
      },
      "source": [
        "def acceso_restringido(usuario):\n",
        "    if usuario[0] == \"Mark\" and usuario[1] == \"Lenders\": \n",
        "        print(\"Hola, Mark. Te estaba esperando.\")\n",
        "    elif usuario[0] == \"Oliver\" and usuario[1] == \"Atom\": \n",
        "        print(\"Hola, Oliver. Te estaba esperando.\")\n",
        "    elif usuario[0] == \"Benji\" and usuario[1] == \"Price\": \n",
        "        print(\"Hola, Benji. Te estaba esperando.\")\n",
        "    else:  \n",
        "        print(\"Hola, ¿nos conocemos?\")\n"
      ],
      "execution_count": null,
      "outputs": []
    },
    {
      "cell_type": "markdown",
      "metadata": {
        "id": "QKlFC-YAa9CZ"
      },
      "source": [
        "Para escribir las expresiones lógicas se usan distintos **operadores lógicos** (como el operador **and**) y **operadores relacionales** (como los operadores **>** o **==**). Iremos viendo más operadores de estos tipos a medida que los vayamos necesitando."
      ]
    }
  ]
}