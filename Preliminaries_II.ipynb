{
  "nbformat": 4,
  "nbformat_minor": 0,
  "metadata": {
    "colab": {
      "name": "Preliminaries_II.ipynb",
      "provenance": []
    },
    "kernelspec": {
      "name": "python3",
      "display_name": "Python 3"
    },
    "language_info": {
      "name": "python"
    }
  },
  "cells": [
    {
      "cell_type": "markdown",
      "source": [
        "##Diccionaries\n",
        "Another way to store data (in fact it is a very famous way) is with dictionaries. A dictionary is a type of data structure, where each selected value is stored with a key so that to access the values these keys are used (similar to how to access the values of a list using indexes) .\n",
        "You can think of a dictionary as a table with two columns. For example, a dictionary could store the average temperatures of the Andalusian capitals, indexing these values by the names of the capitals:\n",
        "|Clave|Valor|\n",
        "|---|---|\n",
        "|\"Almería\"|19.9|\n",
        "|\"Cádiz\"| 19.1|\n",
        "|\"Córdoba\"| 19.1|\n",
        "|\"Granada\"|16.6|\n",
        "|\"Jaén\"|18.2|\n",
        "|\"Huelva\"|19.0|\n",
        "|\"Málaga\"|19.8|\n",
        "|\"Sevilla\"|20.0|\n",
        "\n",
        "Which would be written in Python as follows:"
      ],
      "metadata": {
        "id": "t2KaObc8LfGB"
      }
    },
    {
      "cell_type": "code",
      "source": [
        "temperatura_media = {\"Almería\": 19.9, \"Cádiz\": 19.1, \"Córdoba\": 19.1, \"Granada\": 16.6, \n",
        "                    \"Jaén\": 18.2, \"Huelva\": 19.0, \"Málaga\": 19.8, \"Sevilla\": 20.0}\n",
        "print(temperatura_media)"
      ],
      "metadata": {
        "colab": {
          "base_uri": "https://localhost:8080/"
        },
        "id": "CWwxu3VCNBU-",
        "outputId": "98e6cf57-d732-4de5-c00f-df7b4d966477"
      },
      "execution_count": null,
      "outputs": [
        {
          "output_type": "stream",
          "name": "stdout",
          "text": [
            "{'Almería': 19.9, 'Cádiz': 19.1, 'Córdoba': 19.1, 'Granada': 16.6, 'Jaén': 18.2, 'Huelva': 19.0, 'Málaga': 19.8, 'Sevilla': 20.0}\n"
          ]
        }
      ]
    },
    {
      "cell_type": "markdown",
      "source": [
        "Now we can work with dictionary data in a similar way to lists, but using keys to access values instead of indices."
      ],
      "metadata": {
        "id": "2toTvo_dN6zW"
      }
    },
    {
      "cell_type": "code",
      "source": [
        "temperatura_media[1] #No existe esta clave"
      ],
      "metadata": {
        "colab": {
          "base_uri": "https://localhost:8080/",
          "height": 165
        },
        "id": "1dB0qMAZN78v",
        "outputId": "b8bad3f5-9c89-4412-a307-36d93712e831"
      },
      "execution_count": null,
      "outputs": [
        {
          "output_type": "error",
          "ename": "KeyError",
          "evalue": "ignored",
          "traceback": [
            "\u001b[0;31m---------------------------------------------------------------------------\u001b[0m",
            "\u001b[0;31mKeyError\u001b[0m                                  Traceback (most recent call last)",
            "\u001b[0;32m<ipython-input-2-151d8cf8180c>\u001b[0m in \u001b[0;36m<module>\u001b[0;34m()\u001b[0m\n\u001b[0;32m----> 1\u001b[0;31m \u001b[0mtemperatura_media\u001b[0m\u001b[0;34m[\u001b[0m\u001b[0;36m1\u001b[0m\u001b[0;34m]\u001b[0m \u001b[0;31m#No existe esta clave\u001b[0m\u001b[0;34m\u001b[0m\u001b[0;34m\u001b[0m\u001b[0m\n\u001b[0m",
            "\u001b[0;31mKeyError\u001b[0m: 1"
          ]
        }
      ]
    },
    {
      "cell_type": "code",
      "source": [
        "print(\"Temperatura anterior:\", temperatura_media['Sevilla'])\n",
        "#temperatura_media['Sevilla'] = temperatura_media['Sevilla'] + 1\n",
        "temperatura_media['Sevilla'] += 1.0   # ¡Climatic change!\n",
        "print(\"Temperatura actual:\", temperatura_media['Sevilla'])"
      ],
      "metadata": {
        "id": "RSJqs72jOQT3"
      },
      "execution_count": null,
      "outputs": []
    },
    {
      "cell_type": "markdown",
      "source": [
        "In addition to the predefined functions in Python there are many more functions that you can do with Python \"without having to download anything to your computer from the internet\"\n",
        "A module is each of the files with a .py extension in which the Python programs are written. Modules are grouped into packages, which are similar to Windows File Explorer folders.\n",
        "\n",
        "For example, if we want to generate random numbers, we can use the random module. Before doing so, you need to import it. Try running the following code several times and you will see how a different number is generated each time:"
      ],
      "metadata": {
        "id": "iTkRisivP8K9"
      }
    },
    {
      "cell_type": "code",
      "source": [
        "import random\n",
        "\n",
        "print(random.randint(1, 10))"
      ],
      "metadata": {
        "colab": {
          "base_uri": "https://localhost:8080/"
        },
        "id": "X9wuIBnaP7PH",
        "outputId": "cea7e5cd-cd0f-4c45-8850-6ef291f582df"
      },
      "execution_count": null,
      "outputs": [
        {
          "output_type": "stream",
          "name": "stdout",
          "text": [
            "4\n"
          ]
        }
      ]
    },
    {
      "cell_type": "markdown",
      "source": [
        "There are many packages and each one does a different thing but together they can do more!\n",
        "It's like in Harry Potter, you to make a spell, potion, enchantment, etc., you have to understand what you want to do, you have to know how to pronounce it (the syntax that is the way you write it), you have to know what you need (packages of functions) and then you execute your spell with the things you have (you execute your code with the data or the thing that you are going to use to do it)"
      ],
      "metadata": {
        "id": "g-Dyf9VPVwoR"
      }
    }
  ]
}